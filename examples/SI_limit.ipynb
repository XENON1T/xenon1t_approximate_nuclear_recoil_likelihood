{
 "cells": [
  {
   "cell_type": "markdown",
   "id": "d136b27f",
   "metadata": {},
   "source": [
    "XENON1T limits\n",
    "\n",
    "\n",
    "bla bla\n"
   ]
  },
  {
   "cell_type": "code",
   "execution_count": 1,
   "id": "be826392",
   "metadata": {
    "tags": []
   },
   "outputs": [],
   "source": [
    "from xe_likelihood import Spectrum,BinwiseInference, xenon1t_published\n",
    "\n",
    "import scipy.stats as sps\n",
    "import numpy as np\n",
    "from tqdm import tqdm_notebook as tqdm\n",
    "import matplotlib.pyplot as plt\n",
    "import time"
   ]
  },
  {
   "cell_type": "markdown",
   "id": "c5a0406c",
   "metadata": {},
   "source": [
    "For wimprates"
   ]
  },
  {
   "cell_type": "code",
   "execution_count": 2,
   "id": "06853f59",
   "metadata": {
    "tags": []
   },
   "outputs": [],
   "source": [
    "import wimprates\n",
    "import numericalunits as nu\n",
    "\n",
    "nu.GeVm = nu.GeV / (nu.c0**2)\n",
    "def wimprate_wimp_spectrum(e, M=50, interaction = \"SI\"):\n",
    "    return wimprates.rate_wimp(e*nu.keV, mw = M*nu.GeVm, sigma_nucleon=1e-45*nu.cm**2,interaction=interaction)* (nu.keV * (1000 * nu.kg) * nu.year)"
   ]
  },
  {
   "cell_type": "code",
   "execution_count": 3,
   "id": "8554cb96",
   "metadata": {
    "collapsed": false,
    "jupyter": {
     "outputs_hidden": false
    }
   },
   "outputs": [
    {
     "name": "stderr",
     "output_type": "stream",
     "text": [
      "/home/joe/temp/ipykernel_93654/3684974290.py:6: TqdmDeprecationWarning: This function will be removed in tqdm==5.0.0\n",
      "Please use `tqdm.notebook.tqdm` instead of `tqdm.tqdm_notebook`\n",
      "  for i, wimp_mass in enumerate(tqdm(wimp_masses, desc=\"Looping on wimp masses\")):\n"
     ]
    },
    {
     "data": {
      "application/vnd.jupyter.widget-view+json": {
       "model_id": "81de2170423d4887a064a6f7414f64a8",
       "version_major": 2,
       "version_minor": 0
      },
      "text/plain": [
       "Looping on wimp masses:   0%|          | 0/40 [00:00<?, ?it/s]"
      ]
     },
     "metadata": {},
     "output_type": "display_data"
    },
    {
     "name": "stderr",
     "output_type": "stream",
     "text": [
      "/home/joe/Sandbox/public_NR_likelihood/xe_likelihood/binwise_inference.py:172: IntegrationWarning: The occurrence of roundoff error is detected, which prevents \n",
      "  the requested tolerance from being achieved.  The error may be \n",
      "  underestimated.\n",
      "  return np.asarray([quad(self.spectrum, ed, eu)[0] for ed, eu in\n",
      "/home/joe/Sandbox/public_NR_likelihood/xe_likelihood/binwise_inference.py:172: IntegrationWarning: The maximum number of subdivisions (50) has been achieved.\n",
      "  If increasing the limit yields no improvement it is advised to analyze \n",
      "  the integrand in order to determine the difficulties.  If the position of a \n",
      "  local difficulty can be determined (singularity, discontinuity) one will \n",
      "  probably gain from splitting up the interval and calling the integrator \n",
      "  on the subranges.  Perhaps a special-purpose integrator should be used.\n",
      "  return np.asarray([quad(self.spectrum, ed, eu)[0] for ed, eu in\n",
      "/home/joe/.cache/pypoetry/virtualenvs/xe-likelihood-GvGrwz83-py3.9/lib/python3.9/site-packages/scipy/optimize/optimize.py:2149: RuntimeWarning: invalid value encountered in multiply\n",
      "  tmp2 = (x - v) * (fx - fw)\n",
      "/home/joe/.cache/pypoetry/virtualenvs/xe-likelihood-GvGrwz83-py3.9/lib/python3.9/site-packages/scipy/optimize/optimize.py:2150: RuntimeWarning: invalid value encountered in subtract\n",
      "  p = (x - v) * tmp2 - (x - w) * tmp1\n"
     ]
    },
    {
     "name": "stdout",
     "output_type": "stream",
     "text": [
      "86.61114549636841\n"
     ]
    }
   ],
   "source": [
    "xenon_inference = BinwiseInference.from_xenon1t_sr(spectrum = sps.norm(10, 0.1).pdf)\n",
    "t0=time.time()\n",
    "limit_asymptotic=[]\n",
    "limit_nonasymptotic=[]\n",
    "wimp_masses = np.logspace(np.log10(6),np.log10(1000),40)\n",
    "for i, wimp_mass in enumerate(tqdm(wimp_masses, desc=\"Looping on wimp masses\")):\n",
    "#for i, wimp_mass in enumerate((wimp_masses)):\n",
    " #   print (str(wimp_mass)+\"GeV \"+str(i)+\"/\"+str(len(wimp_masses)))\n",
    "    E = np.logspace(-1,2,301)\n",
    "    dRdE = wimprate_wimp_spectrum(E,wimp_mass,\"SI\")\n",
    "    s = Spectrum.from_sample(E,dRdE,str(wimp_mass)+\"GeV/c2 SI WIMP\")\n",
    "    xenon_inference.spectrum = s\n",
    "    limit_nonasymptotic.append(xenon_inference.compute_ul(cl=0.1, asymptotic=False))\n",
    "    limit_asymptotic.append(xenon_inference.compute_ul(cl=0.1, asymptotic=True))\n",
    "print (time.time()-t0)"
   ]
  },
  {
   "cell_type": "markdown",
   "id": "d8ac82b2",
   "metadata": {},
   "source": [
    "\n"
   ]
  },
  {
   "cell_type": "code",
   "execution_count": 4,
   "id": "f0c89f20",
   "metadata": {
    "collapsed": false,
    "jupyter": {
     "outputs_hidden": false
    }
   },
   "outputs": [
    {
     "data": {
      "image/png": "[encoded data removed]",
      "text/plain": [
       "<Figure size 432x288 with 1 Axes>"
      ]
     },
     "metadata": {
      "needs_background": "light"
     },
     "output_type": "display_data"
    }
   ],
   "source": [
    "limit_asymptotic45=1e-45*np.array(limit_asymptotic)\n",
    "limit_nonasymptotic45=1e-45*np.array(limit_nonasymptotic)\n",
    "plt.clf()\n",
    "plt.plot(xenon1t_published[:,0], xenon1t_published[:,1],color=\"k\",label=\"Published Limit\")\n",
    "plt.plot(wimp_masses,limit_asymptotic45,color=\"blue\",label=\"Asymptotic Binwise\")\n",
    "plt.plot(wimp_masses,limit_nonasymptotic45,color=\"red\",label=\"Nonasymptotic Binwise\")\n",
    "plt.legend()\n",
    "plt.xlabel(\"WIMP mass [GeV$/c^2$]\")\n",
    "plt.yscale(\"log\")\n",
    "plt.xscale(\"log\")\n",
    "plt.show()"
   ]
  },
  {
   "cell_type": "code",
   "execution_count": null,
   "id": "72932748",
   "metadata": {
    "collapsed": true,
    "jupyter": {
     "outputs_hidden": true
    }
   },
   "outputs": [],
   "source": []
  },
  {
   "cell_type": "code",
   "execution_count": null,
   "id": "55a7c6c0-969d-4fcb-a0a9-be187622a52f",
   "metadata": {},
   "outputs": [],
   "source": []
  },
  {
   "cell_type": "code",
   "execution_count": null,
   "id": "c351d2cb-76ef-4745-9333-d496fb46bf66",
   "metadata": {},
   "outputs": [],
   "source": []
  },
  {
   "cell_type": "code",
   "execution_count": null,
   "id": "efd29d83-a81b-4d0e-8f0c-526d25a242b3",
   "metadata": {},
   "outputs": [],
   "source": []
  }
 ],
 "metadata": {
  "kernelspec": {
   "display_name": "Python 3 (ipykernel)",
   "language": "python",
   "name": "python3"
  },
  "language_info": {
   "codemirror_mode": {
    "name": "ipython",
    "version": 3
   },
   "file_extension": ".py",
   "mimetype": "text/x-python",
   "name": "python",
   "nbconvert_exporter": "python",
   "pygments_lexer": "ipython3",
   "version": "3.9.7"
  },
  "widgets": {
   "state": {
    "002f1508366e4d1389afff26c5b9db79": {
     "views": [
      {
       "cell_index": 4
      }
     ]
    }
   },
   "version": "1.2.0"
  }
 },
 "nbformat": 4,
 "nbformat_minor": 5
}
